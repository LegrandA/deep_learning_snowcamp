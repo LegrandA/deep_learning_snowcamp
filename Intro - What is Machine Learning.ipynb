{
 "cells": [
  {
   "cell_type": "markdown",
   "metadata": {},
   "source": [
    "# Machine learning\n",
    "\n",
    "L’analyse de donnée (datascience) regroupe un ensemble de disciplines jouant un rôle clef dans la compréhension de phénomènes variés. Le machine learning est un des sous domaines de la datascience. Son principe de base réside dans l’entraînement d’un modèle en utilisant des données déjà acquises auparavant.   \n",
    "\n",
    "Exemple d'applications :\n",
    "- La reconnaissance d'image\n",
    "- La reconnaissance vocale\n",
    "- Les systèmes de recommandation\n",
    "- ...\n",
    "\n",
    "\n",
    "Une fois entraîné, le modèle est destiné à être utilisé sur de nouvelles données afin de leur attribuer soit une valeur, soit une classe, un groupe (donnée de sortie, output)…  \n",
    "Lors de l’entraînement, chaque donnée connue utilisée pour créer le modèle est désignée commes donnée d’entrée (input) et se présente sous forme de vecteur. Etant donné un ensemble d’entrées **X**={**x**<sub>1</sub>, ... , **x**<sub>j</sub>, ... **x**<sub>n</sub>} avec **x**<sub>j</sub> = (x<sub>j1</sub>, x<sub>j2</sub>, ... , x<sub>jd</sub>) ∈ R<sup>d</sup> , chaque x<sub>ij</sub> est désigné en tant que feature, ou encore attribut ou variable.\n",
    "\n",
    "On distingue essentiellement deux catégories d'apprentissage.\n",
    "\n",
    "### L'apprentissage supervisé\n",
    "\n",
    "Dans le cas où les données de sorties seraient connues et utilisées lors de la phase d’entraînement, alors on parle d’entraînement supervisé.  \n",
    "\n",
    "Exemple :  \n",
    "Dans le cas d'une application destinnée à reconnaître si une image contient une voiture ou non, on va entraîner un modèle avec le couple {photo, oui/non}.\n",
    "Ici, les différentes classes connues sont \"oui\" ou \"non\". Une fois le modèle entraîné, on ne fournira au modèle que les données d'entrée (une photo) et le modèle nous donnera la classe estimée correspondante. C'est le principe de la **classification**.\n",
    "\n",
    "Les données en sortie peuvent aussi être continues. On ne parle plus dans ce cas de classification mais de **régression**.  \n",
    "\n",
    "Exemple :  \n",
    "Dans le cas d'une application destinée à estimer le prix de maison, on va entraîner un modèle avec le couples {données, prix}. Ici, donnée est un vecteur pouvant regrouper diverses features telles que la superficie de la maison, son nombre de chambres, nombre de salles de bains...  \n",
    "Une fois le modèle entrainé, on ne fournira au modèle que les données d'entrée (superficie, etc) et le modèle nous donnera une estimation du prix de la maison.\n",
    "\n",
    "### L'apprentissage non-supervisé\n",
    "\n",
    "Dans le cas où le modèle entraîné déterminerait lui même comment regrouper les données, on parle d’entraînement non-supervisé.  \n",
    "\n",
    "Exemple :  \n",
    "Un retailer cherche à établir les principaux profils de ses clients en fonction de leur âge, leur genre, de l'argent qu'ils dépensent dans toutes les catégories de produits du magasin. Le modèle va donc établir lui même quels sont les groupes de clients similaires et le retailer pourra en tirer des conclusions qui pourront lui être utiles plus tard. C'est le principe du **clustering**."
   ]
  }
 ],
 "metadata": {
  "kernelspec": {
   "display_name": "Python 2",
   "language": "python",
   "name": "python2"
  },
  "language_info": {
   "codemirror_mode": {
    "name": "ipython",
    "version": 2
   },
   "file_extension": ".py",
   "mimetype": "text/x-python",
   "name": "python",
   "nbconvert_exporter": "python",
   "pygments_lexer": "ipython2",
   "version": "2.7.14"
  }
 },
 "nbformat": 4,
 "nbformat_minor": 2
}
