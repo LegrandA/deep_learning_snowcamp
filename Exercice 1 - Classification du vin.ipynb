{
 "cells": [
  {
   "cell_type": "markdown",
   "metadata": {},
   "source": [
    "# Classification du vin"
   ]
  },
  {
   "cell_type": "markdown",
   "metadata": {},
   "source": [
    "L'objectif de ce premier exercice est de se familiariser avec un premier problème pouvant être résolu avec les méthodologies et techniques utilisées en machine learning."
   ]
  },
  {
   "cell_type": "markdown",
   "metadata": {},
   "source": [
    "## Visualisation des données"
   ]
  },
  {
   "cell_type": "markdown",
   "metadata": {},
   "source": [
    "Les données utilisées pour ce premier exercice sont issues de l'UC Irvine Machine Learning Repository : https://archive.ics.uci.edu/ml/datasets/wine\n",
    "\n",
    "Elles sont disponibles sur ce site, ou alors dans l'archive que vous avez téléchargée, dans le répertoire `snowcamp/wine/`"
   ]
  },
  {
   "cell_type": "code",
   "execution_count": null,
   "metadata": {},
   "outputs": [],
   "source": [
    "ls snowcamp/datasets/wine/"
   ]
  },
  {
   "cell_type": "code",
   "execution_count": null,
   "metadata": {
    "scrolled": true
   },
   "outputs": [],
   "source": [
    "def read_first_lines(file_path, num_lines=10):\n",
    "    \"\"\"Read first lines of a given file\n",
    "        \n",
    "    # Arguments\n",
    "        file_path : Full file path.\n",
    "        num_lines: Number of lines to read.\n",
    "        \n",
    "    # Returns\n",
    "        An array with first lines of the given file.\n",
    "    \"\"\"\n",
    "    with open(file_path) as f:\n",
    "        return [next(f) for x in range(num_lines)] if num_lines is not None else f.readlines()\n",
    "    \n",
    "def display_first_lines(file_path, num_lines=10):\n",
    "    \"\"\"Display first lines of a given file\n",
    "        \n",
    "    # Arguments\n",
    "        file_path : Full file path.\n",
    "        num_lines: Number of lines to read.\n",
    "        \n",
    "    # Returns\n",
    "        An array with first lines of the given file.\n",
    "    \"\"\"\n",
    "    for l in read_first_lines(file_path, num_lines):\n",
    "        print(l)   \n",
    "   \n",
    "display_first_lines('snowcamp/datasets/wine/wine.data')\n"
   ]
  },
  {
   "cell_type": "markdown",
   "metadata": {},
   "source": [
    "La documentation de ces données se trouve dans le fichier "
   ]
  },
  {
   "cell_type": "code",
   "execution_count": null,
   "metadata": {
    "scrolled": true
   },
   "outputs": [],
   "source": [
    "display_first_lines('snowcamp/datasets/wine/wine.names', None)"
   ]
  },
  {
   "cell_type": "markdown",
   "metadata": {},
   "source": [
    "### Import des données avec la librairie pandas\n",
    "\n",
    "Pandas est une librairie python permettant de charger des données, de les visualiser, de les transformer et de les décrire. \n",
    "\n",
    "Elle dispose de plusieurs fonctions utilitaires, comme la fonction read_csv permettant de charger les données dans un objet de 'type' dataframe."
   ]
  },
  {
   "cell_type": "code",
   "execution_count": null,
   "metadata": {},
   "outputs": [],
   "source": [
    "import pandas as pd\n",
    "\n",
    "columns = [ 'producer', 'alcohol', \n",
    "                                               'malic_acid', 'ash', \n",
    "                                               'ash_alcalinity', \n",
    "                                               'magnesium', \n",
    "                                               'total_phenols',\n",
    "                                               'flavanoids', 'non_flavanoids_phenols', \n",
    "                                               'proanthocyanins', 'color_intensity', 'hue', 'od', 'proline']\n",
    "\n",
    "wine_dataframe = pd.read_csv('snowcamp/datasets/wine/wine.data', names= columns)\n",
    "\n",
    "\"\"\"\n",
    "    Affichez ici les 10 premières lignes avec la fonction head() du dataframe.\n",
    "    https://pandas.pydata.org/pandas-docs/stable/generated/pandas.DataFrame.html\n",
    "\"\"\"\n",
    "\n",
    "wine_dataframe..."
   ]
  },
  {
   "cell_type": "markdown",
   "metadata": {},
   "source": [
    "### Description des données"
   ]
  },
  {
   "cell_type": "code",
   "execution_count": null,
   "metadata": {},
   "outputs": [],
   "source": [
    "\"\"\"\n",
    "    Affichez ici la description des données. (fonction describe())\n",
    "\"\"\"\n",
    "\n",
    "wine_dataframe..."
   ]
  },
  {
   "cell_type": "code",
   "execution_count": null,
   "metadata": {},
   "outputs": [],
   "source": [
    "\"\"\"\n",
    "    Affichez ici les informations sur les données de la dataframe. (fonction info())\n",
    "\"\"\"\n",
    "\n",
    "wine_dataframe..."
   ]
  },
  {
   "cell_type": "code",
   "execution_count": null,
   "metadata": {},
   "outputs": [],
   "source": [
    "\"\"\"\n",
    "    Utilisez la fonction groupby() et affichez la moyenne des features des vins de chaque producteurs avec la fonction mean().\n",
    "    https://pandas.pydata.org/pandas-docs/stable/generated/pandas.DataFrame.groupby.html\n",
    "\"\"\"\n",
    "\n",
    "wine_per_producer_df = wine_dataframe...\n",
    "wine_per_producer_df..."
   ]
  },
  {
   "cell_type": "markdown",
   "metadata": {},
   "source": [
    "### Visualisation des données (matplotlib)"
   ]
  },
  {
   "cell_type": "code",
   "execution_count": null,
   "metadata": {},
   "outputs": [],
   "source": [
    "%matplotlib inline     \n",
    "\n",
    "\"\"\"\n",
    "    Affichez toutes les moyennes (fonction mean() du dataframe) par producteur sous forme de diagrammes à barres.\n",
    "\"\"\"\n",
    "\n",
    "wine_dataframe...\n",
    "\n",
    "\"\"\"\n",
    "    Affichez le taux d'alcool moyen du vin par producteur sous forme de diagrammes à barres.\n",
    "\"\"\"\n",
    "\n",
    "wine_per_producer_df..."
   ]
  },
  {
   "cell_type": "markdown",
   "metadata": {},
   "source": [
    "### Visualisation des données (matplotlib + seaborn)"
   ]
  },
  {
   "cell_type": "code",
   "execution_count": null,
   "metadata": {
    "collapsed": true
   },
   "outputs": [],
   "source": [
    "import seaborn as sns\n",
    "import matplotlib.pyplot as plt"
   ]
  },
  {
   "cell_type": "code",
   "execution_count": null,
   "metadata": {},
   "outputs": [],
   "source": [
    "\"\"\"\n",
    "    Avec la fonction distplot de seaborn, affichez un histogramme sur 10 intervalles de la distribution du taux d'alcool.\n",
    "    https://seaborn.pydata.org/generated/seaborn.distplot.html\n",
    "\"\"\"\n",
    "\n",
    "sns.distplot(...)\n",
    "plt.show()"
   ]
  },
  {
   "cell_type": "code",
   "execution_count": null,
   "metadata": {},
   "outputs": [],
   "source": [
    "\"\"\"\n",
    "    Trouvez la meilleur façon d'afficher l'alcool de chaque vin en fonction du producteur. (swarmplot, distplot...)\n",
    "\"\"\"\n",
    "sns..."
   ]
  },
  {
   "cell_type": "code",
   "execution_count": null,
   "metadata": {},
   "outputs": [],
   "source": [
    "\"\"\"\n",
    "    Utilisez la fonction pairplot de seaborn afin de déterminer si des corrélations entre les features.\n",
    "    https://seaborn.pydata.org/generated/seaborn.pairplot.html\n",
    "\"\"\"\n",
    "sns.pairplot(...);\n",
    "\n",
    "\"\"\"\n",
    "    Utilisez l'option de pairplot hue afin de constater quel couples de variables discriminent le mieux les producteurs.\n",
    "\"\"\""
   ]
  },
  {
   "cell_type": "markdown",
   "metadata": {},
   "source": [
    "## Machine Learning !"
   ]
  },
  {
   "cell_type": "markdown",
   "metadata": {},
   "source": [
    "Notre objectif est de créer un modèle qui aura appris, en fonction des données existantes, à catégoriser les vins selon leur producteur. Plusieurs algorithmes de machine learning existent pour résoudre les problèmes de classification. Nous allons utiliser pour cet exercice un réseau de neurones, avec la librairie Keras."
   ]
  },
  {
   "cell_type": "markdown",
   "metadata": {},
   "source": [
    "### Préparation des données\n",
    "\n",
    "Avant d'implémenter notre premier réseau de neurones, nous devons préparer les données. Notamment, séparer notre dataframe en 2 nouvelles dataframes:\n",
    "* Une dataframe avec les attributs (features) : dataframe qui contiendra uniquement les caractéristiques des vins.\n",
    "* Une dataframe qui contiendra la cible (target) : une dataframe qui contiendra uniquement les producteurs\n"
   ]
  },
  {
   "cell_type": "code",
   "execution_count": null,
   "metadata": {
    "collapsed": true
   },
   "outputs": [],
   "source": [
    "\"\"\"\n",
    "    Construisez vos données d'entraînement en enlevant la colonne producer du dataset pour l'input (X) et \n",
    "    utilisez cette colonne en tant qu'output (y).\n",
    "\"\"\"\n",
    "X = wine_dataframe...\n",
    "y = wine_dataframe[...]"
   ]
  },
  {
   "cell_type": "code",
   "execution_count": null,
   "metadata": {},
   "outputs": [],
   "source": [
    "X.head()"
   ]
  },
  {
   "cell_type": "code",
   "execution_count": null,
   "metadata": {},
   "outputs": [],
   "source": [
    "y.head()"
   ]
  },
  {
   "cell_type": "markdown",
   "metadata": {},
   "source": [
    "### One hot encoding\n",
    "\n",
    "La valeur donnée pour chaque producteur n'est pas à proprement parler une valeur qui le caractérise (une valeur continue et ordonnée) mais plutôt un code donné arbitrairement.\n",
    "\n",
    "Il est donc nécessaire de transformer ces données, les encoder en catégories.\n",
    "\n",
    "Nous disposons de 3 catégories (3 producteurs). Le premier  producteur pourrait être encodé de cette manière:\n",
    "\n",
    "> Producteur 1 = [1, 0, 0]\n",
    "\n",
    "Le second : \n",
    "\n",
    "> Producteur 2 = [0, 1, 0]\n",
    "\n",
    "Et le troisième : \n",
    "\n",
    "> Producteur 3 = [0, 0, 1]"
   ]
  },
  {
   "cell_type": "code",
   "execution_count": null,
   "metadata": {
    "collapsed": true
   },
   "outputs": [],
   "source": [
    "\"\"\"\n",
    "    Utilisez la fonction get_dummies() de pandas afin d'encoder l'output (y).\n",
    "    https://pandas.pydata.org/pandas-docs/stable/generated/pandas.get_dummies.html\n",
    "\"\"\"\n",
    "\n",
    "y_cat = pd..."
   ]
  },
  {
   "cell_type": "code",
   "execution_count": null,
   "metadata": {},
   "outputs": [],
   "source": [
    "\"\"\"Import des librairies Keras utilisées pour construire notre modèle.\"\"\"\n",
    "import keras\n",
    "from keras.models import Sequential\n",
    "from keras.layers import Dense, Activation, Dropout"
   ]
  },
  {
   "cell_type": "markdown",
   "metadata": {},
   "source": [
    "### Définition d'un modèle\n",
    "\n",
    "Il existe 2 méthodes pour définir un modèle avec Keras:\n",
    "\n",
    "* L'API de modélisation séquentielle : permet de définir une pile de couches (layers) de façon linéaire\n",
    "* L'API fonctionnelle (Functional) : permet de définir des modèles plus complexes (graphes notamment)\n",
    "\n"
   ]
  },
  {
   "cell_type": "markdown",
   "metadata": {},
   "source": [
    "Création d'un modèle séquentiel"
   ]
  },
  {
   "cell_type": "code",
   "execution_count": null,
   "metadata": {
    "collapsed": true
   },
   "outputs": [],
   "source": [
    "model = Sequential()"
   ]
  },
  {
   "cell_type": "markdown",
   "metadata": {},
   "source": [
    "### Les différentes couches\n",
    "\n",
    "Différentes couches peuvent être utilisées avec Keras.\n",
    "\n",
    "Les couches \"core\" : \n",
    "* Dense : Une couche entièrement connectée (à la couche précédente). Couche de base d'un réseau de neurones.\n",
    "* Activation : Applique une fonction d'activation (voir plus bas).\n",
    "* Dropout : Supprime volontairement des données, de manière arbitraire. Pour éviter le surapprentissage (mauvaise généralisation du modèle).\n",
    "* Flatten : Réduit le nombre de dimensions. Par ex. : (None, 64, 32, 32) => (None, 65536)\n",
    "\n",
    "D'autres couches existent également : \n",
    "Masking, Permute, Reshape, etc. (https://keras.io/layers/core)\n",
    "\n",
    "\n",
    "Ajout d'une couche cachée (hidden layer) de 16 neurones, avec un biais et des poids initialisés de manière uniforme. Cette couche sera connectée à nos attributs caractérisant le vin."
   ]
  },
  {
   "cell_type": "code",
   "execution_count": null,
   "metadata": {
    "collapsed": true
   },
   "outputs": [],
   "source": [
    "\"\"\"\n",
    "    Construisez les deux premiers layers du NN. Spécifiez le nombre de features en input, le nombre de neurones \n",
    "    de la couche cachée ainsi qu'un kernel_initializer afin d'initialiser les poids entre les deux couches.\n",
    "\n",
    "    doc : https://keras.io/initializers/\n",
    "\n",
    "\"\"\"\n",
    "\n",
    "model.add(Dense(..., input_dim =..., kernel_initializer=..., use_bias=True))"
   ]
  },
  {
   "cell_type": "markdown",
   "metadata": {},
   "source": [
    "### Les fonctions d'activation"
   ]
  },
  {
   "cell_type": "markdown",
   "metadata": {},
   "source": [
    "On applique une fonction d'activation. Plusieurs fonctions d'activations sont disponibles. Elles permettent par exemple d'introduire de la non-linéarité dans les modèles (comme 'relu') ou de transformer les valeurs des sorties des neurones (pour ramener les valeurs sur une autre échelle comme 'softmax')\n",
    "\n",
    "Ici, on ajouter une couche d'activation 'relu' à notre modèle."
   ]
  },
  {
   "cell_type": "code",
   "execution_count": null,
   "metadata": {
    "collapsed": true
   },
   "outputs": [],
   "source": [
    "\"\"\"\n",
    "    Spécifiez la fonction d'activation de la couche cachée. Ajoutez la ici ou ajoutez la en option dans la cellule précédente.\n",
    "    https://keras.io/layers/core/\n",
    "\"\"\"\n",
    "\n",
    "model.add(...)"
   ]
  },
  {
   "cell_type": "markdown",
   "metadata": {},
   "source": [
    "On ajoute une couche 'Dropout' pour valeur 0.1 (supprimera 10% des données en entrée de la dernière couche)"
   ]
  },
  {
   "cell_type": "code",
   "execution_count": null,
   "metadata": {
    "collapsed": true
   },
   "outputs": [],
   "source": [
    "\"\"\"\n",
    "    Ajoutez un dropout sur les poids avec un pourcentage qui vous paraît adapté.\n",
    "\"\"\"\n",
    "\n",
    "model.add(...)"
   ]
  },
  {
   "cell_type": "markdown",
   "metadata": {},
   "source": [
    "On ajoute une couche de sortie, avec 3 neurones (1 par producteur) et une couche d'activation ('softmax')"
   ]
  },
  {
   "cell_type": "code",
   "execution_count": null,
   "metadata": {
    "collapsed": true
   },
   "outputs": [],
   "source": [
    "\"\"\"\n",
    "    Construisez la couche d'output.\n",
    "\"\"\"\n",
    "\n",
    "model.add(Dense(..., kernel_initializer=..., activation=...))\n"
   ]
  },
  {
   "cell_type": "markdown",
   "metadata": {},
   "source": [
    "### Compilation du modèle\n",
    "\n",
    "On compile notre modèle, en utilisant une fonction de coût 'categorical_crossentropy' et l'optimizer 'adam'.\n",
    "On utilisera la métrique 'accuracy' afind de visualiser la performance de notre modèle.\n"
   ]
  },
  {
   "cell_type": "code",
   "execution_count": null,
   "metadata": {
    "collapsed": true
   },
   "outputs": [],
   "source": [
    "\"\"\"\n",
    "    Choisissez une fonction de loss adaptée à la catégorisation.\n",
    "    https://keras.io/losses/\n",
    "\"\"\"\n",
    "\n",
    "model.compile(loss=..., optimizer='adam', metrics=['accuracy'])"
   ]
  },
  {
   "cell_type": "markdown",
   "metadata": {},
   "source": [
    "## Entrainement du modèle\n",
    "\n",
    "Pour entrainer notre modèle, on divisera nos données en 2 parties: 80% des données vont servir à entrainer le modèle, les 20% restant serviront à l'évaluer."
   ]
  },
  {
   "cell_type": "code",
   "execution_count": null,
   "metadata": {},
   "outputs": [],
   "source": [
    "\"\"\"\n",
    "    Entraînez le modèle avec les données préparées plus haut sur 500 epochs. Utilisez 20% des données pour l'évaluation.\n",
    "    https://keras.io/models/sequential/\n",
    "\"\"\"\n",
    "\n",
    "model.fit(...)"
   ]
  },
  {
   "cell_type": "markdown",
   "metadata": {},
   "source": [
    "### Quelques prédictions"
   ]
  },
  {
   "cell_type": "code",
   "execution_count": null,
   "metadata": {
    "collapsed": true
   },
   "outputs": [],
   "source": [
    "import numpy as np"
   ]
  },
  {
   "cell_type": "code",
   "execution_count": null,
   "metadata": {},
   "outputs": [],
   "source": [
    "\"\"\"\n",
    "    Cherchez à la main une ligne dans les données et faites une prédiction. \n",
    "    Vérifiez que le modèle vous retourne la bonne classe.\n",
    "\"\"\"\n",
    "model.predict_classes(...)"
   ]
  },
  {
   "cell_type": "code",
   "execution_count": null,
   "metadata": {},
   "outputs": [],
   "source": [
    "model.summary()"
   ]
  }
 ],
 "metadata": {
  "kernelspec": {
   "display_name": "Python 2",
   "language": "python",
   "name": "python2"
  },
  "language_info": {
   "codemirror_mode": {
    "name": "ipython",
    "version": 2
   },
   "file_extension": ".py",
   "mimetype": "text/x-python",
   "name": "python",
   "nbconvert_exporter": "python",
   "pygments_lexer": "ipython2",
   "version": "2.7.14"
  }
 },
 "nbformat": 4,
 "nbformat_minor": 2
}
